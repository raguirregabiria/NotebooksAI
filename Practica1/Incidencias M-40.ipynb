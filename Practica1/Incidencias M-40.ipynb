{
 "cells": [
  {
   "cell_type": "markdown",
   "metadata": {},
   "source": [
    "Práctica realizada por:<br>\n",
    "### Rodrigo Aguirregabiria Herrero\n",
    "### Manuel Alfredo Collado Centeno"
   ]
  },
  {
   "cell_type": "markdown",
   "metadata": {},
   "source": [
    "Obtenemos de la página de la DGT las incidencias de Madrid (incluyendo obras)"
   ]
  },
  {
   "cell_type": "code",
   "execution_count": 1,
   "metadata": {},
   "outputs": [],
   "source": [
    "import urllib.request as ur\n",
    "f = ur.urlopen(\"http://infocar.dgt.es/etraffic/Incidencias?ca=13&provIci=28&caracter=acontecimiento&accion_consultar=Consultar&IncidenciasRETENCION=IncidenciasRETENCION&IncidenciasOBRAS=IncidenciasOBRAS&IncidenciasPUERTOS=IncidenciasPUERTOS&IncidenciasMETEOROLOGICA=IncidenciasMETEOROLOGICA&IncidenciasEVENTOS=IncidenciasEVENTOS&IncidenciasOTROS=IncidenciasOTROS&IncidenciasRESTRICCIONES=IncidenciasRESTRICCIONES&ordenacion=fechahora_ini-DESC\")\n",
    "s = f.read().decode()\n",
    "f.close()"
   ]
  },
  {
   "cell_type": "markdown",
   "metadata": {},
   "source": [
    "Esta expresión busca todas las horas de las incidencias, tanto las de inicio como las de final"
   ]
  },
  {
   "cell_type": "code",
   "execution_count": 2,
   "metadata": {},
   "outputs": [],
   "source": [
    "xtr = \"span class='orange'>(.*)</span>\""
   ]
  },
  {
   "cell_type": "code",
   "execution_count": 3,
   "metadata": {},
   "outputs": [],
   "source": [
    "import re\n",
    "matches = re.findall(xtr,s)"
   ]
  },
  {
   "cell_type": "code",
   "execution_count": 4,
   "metadata": {
    "scrolled": true
   },
   "outputs": [
    {
     "name": "stdout",
     "output_type": "stream",
     "text": [
      "['10:08', '13:00', '10:04', '13:00', '10:02', '', '09:40', '15:00', '09:28', '13:30', '09:12', '12:30', '09:11', '14:00', '09:07', '12:00', '09:04', '13:00', '09:03', '12:30', '08:49', '13:00', '08:49', '15:30', '08:30', '15:30', '08:30', '15:30', '08:14', '13:00', '08:14', '13:00', '08:14', '13:00', '08:14', '13:00', '08:14', '13:00', '08:14', '13:00', '08:04', '13:00', '07:55', '', '06:00', '23:00', '08:51', '05:30', '10:17', '']\n"
     ]
    }
   ],
   "source": [
    "print(matches)"
   ]
  },
  {
   "cell_type": "markdown",
   "metadata": {},
   "source": [
    "La expresión siguiente saca la hora y las fechas, tanto de inicio como de final. Usamos el re.DOTALL para que los puntos detecten los saltos de línea."
   ]
  },
  {
   "cell_type": "code",
   "execution_count": 21,
   "metadata": {},
   "outputs": [
    {
     "name": "stdout",
     "output_type": "stream",
     "text": [
      "[('10:08', '28/02/2020', '13:00', '28/02/2020'), ('10:04', '28/02/2020', '13:00', '28/02/2020'), ('10:02', '28/02/2020', '', '\\n'), ('09:40', '28/02/2020', '15:00', '28/02/2020'), ('09:28', '28/02/2020', '13:30', '28/02/2020'), ('09:12', '28/02/2020', '12:30', '28/02/2020'), ('09:11', '28/02/2020', '14:00', '28/02/2020'), ('09:07', '28/02/2020', '12:00', '28/02/2020'), ('09:04', '28/02/2020', '13:00', '28/02/2020'), ('09:03', '28/02/2020', '12:30', '28/02/2020'), ('08:49', '28/02/2020', '13:00', '28/02/2020'), ('08:49', '28/02/2020', '15:30', '28/02/2020'), ('08:30', '28/02/2020', '15:30', '28/02/2020'), ('08:30', '28/02/2020', '15:30', '28/02/2020'), ('08:14', '28/02/2020', '13:00', '28/02/2020'), ('08:14', '28/02/2020', '13:00', '28/02/2020'), ('08:14', '28/02/2020', '13:00', '28/02/2020'), ('08:14', '28/02/2020', '13:00', '28/02/2020'), ('08:14', '28/02/2020', '13:00', '28/02/2020'), ('08:14', '28/02/2020', '13:00', '28/02/2020'), ('08:04', '28/02/2020', '13:00', '28/02/2020'), ('07:55', '28/02/2020', '', '\\n'), ('06:00', '28/02/2020', '23:00', '28/02/2020'), ('08:51', '17/10/2019', '05:30', '16/10/2020'), ('10:17', '05/08/2019', '', '\\n')]\n"
     ]
    }
   ],
   "source": [
    "xtr2=\"span class='orange'>(.*?)</span>.*?\\\">(.*?)<.*?span class='orange'>(.*?)</span>.*?\\\">(.*?)<.*?\"\n",
    "matches = re.findall(xtr2,s, re.DOTALL)\n",
    "print(matches)"
   ]
  },
  {
   "cell_type": "markdown",
   "metadata": {},
   "source": [
    "La expresión de abajo busca el tipo de la incidencia"
   ]
  },
  {
   "cell_type": "code",
   "execution_count": 32,
   "metadata": {
    "scrolled": true
   },
   "outputs": [
    {
     "name": "stdout",
     "output_type": "stream",
     "text": [
      "['OBRAS / Nivel Verde / 3089747', 'OBRAS / Nivel Verde / 3096476', 'RETENCIÓN / CONGESTIÓN / Nivel Rojo / 3095928', 'OBRAS / Nivel Verde / 3096472', 'OBRAS / Nivel Verde / 3096424', 'OBRAS / Nivel Verde / 3096400', 'OBRAS / Nivel Verde / 3096410', 'OBRAS / Nivel Verde / 3096375', 'OBRAS / Nivel Verde / 3096134', 'OBRAS / Nivel Verde / 3096250', 'OBRAS / Nivel Verde / 3096206', 'OBRAS / Nivel Verde / 3096140', 'OBRAS / Nivel Verde / 3096138', 'OBRAS / Nivel Verde / 3096076', 'OBRAS / Nivel Verde / 3095818', 'OBRAS / Nivel Verde / 3095822', 'OBRAS / Nivel Verde / 3095821', 'OBRAS / Nivel Verde / 3095819', 'OBRAS / Nivel Verde / 3095816', 'OBRAS / Nivel Verde / 3095817', 'OBRAS / Nivel Verde / 3095921', 'RETENCIÓN / CONGESTIÓN / Nivel Amarillo / 3096147', 'RESTRICCIONES / Nivel Gris / 3045303', 'OBRAS / Nivel Rojo / 2710816', 'OBRAS / Nivel Amarillo / 2485584']\n"
     ]
    }
   ],
   "source": [
    "xtr1=\"<img src='.*' alt='(.*)' class='fti' />\"\n",
    "matches = re.findall(xtr1,s)\n",
    "print(matches)"
   ]
  },
  {
   "cell_type": "markdown",
   "metadata": {},
   "source": [
    "La expresión de abajo suma las expresiones que buscan la hora y la fecha (tanto de inicio y final) con la que busca el tipo de incidencias."
   ]
  },
  {
   "cell_type": "code",
   "execution_count": 33,
   "metadata": {},
   "outputs": [
    {
     "name": "stdout",
     "output_type": "stream",
     "text": [
      "[('10:08', '28/02/2020', '13:00', '28/02/2020', 'OBRAS / Nivel Verde / 3089747'), ('10:04', '28/02/2020', '13:00', '28/02/2020', 'OBRAS / Nivel Verde / 3096476'), ('10:02', '28/02/2020', '', '\\n', 'RETENCIÓN / CONGESTIÓN / Nivel Rojo / 3095928'), ('09:40', '28/02/2020', '15:00', '28/02/2020', 'OBRAS / Nivel Verde / 3096472'), ('09:28', '28/02/2020', '13:30', '28/02/2020', 'OBRAS / Nivel Verde / 3096424'), ('09:12', '28/02/2020', '12:30', '28/02/2020', 'OBRAS / Nivel Verde / 3096400'), ('09:11', '28/02/2020', '14:00', '28/02/2020', 'OBRAS / Nivel Verde / 3096410'), ('09:07', '28/02/2020', '12:00', '28/02/2020', 'OBRAS / Nivel Verde / 3096375'), ('09:04', '28/02/2020', '13:00', '28/02/2020', 'OBRAS / Nivel Verde / 3096134'), ('09:03', '28/02/2020', '12:30', '28/02/2020', 'OBRAS / Nivel Verde / 3096250'), ('08:49', '28/02/2020', '13:00', '28/02/2020', 'OBRAS / Nivel Verde / 3096206'), ('08:49', '28/02/2020', '15:30', '28/02/2020', 'OBRAS / Nivel Verde / 3096140'), ('08:30', '28/02/2020', '15:30', '28/02/2020', 'OBRAS / Nivel Verde / 3096138'), ('08:30', '28/02/2020', '15:30', '28/02/2020', 'OBRAS / Nivel Verde / 3096076'), ('08:14', '28/02/2020', '13:00', '28/02/2020', 'OBRAS / Nivel Verde / 3095818'), ('08:14', '28/02/2020', '13:00', '28/02/2020', 'OBRAS / Nivel Verde / 3095822'), ('08:14', '28/02/2020', '13:00', '28/02/2020', 'OBRAS / Nivel Verde / 3095821'), ('08:14', '28/02/2020', '13:00', '28/02/2020', 'OBRAS / Nivel Verde / 3095819'), ('08:14', '28/02/2020', '13:00', '28/02/2020', 'OBRAS / Nivel Verde / 3095816'), ('08:14', '28/02/2020', '13:00', '28/02/2020', 'OBRAS / Nivel Verde / 3095817'), ('08:04', '28/02/2020', '13:00', '28/02/2020', 'OBRAS / Nivel Verde / 3095921'), ('07:55', '28/02/2020', '', '\\n', 'RETENCIÓN / CONGESTIÓN / Nivel Amarillo / 3096147'), ('06:00', '28/02/2020', '23:00', '28/02/2020', 'RESTRICCIONES / Nivel Gris / 3045303'), ('08:51', '17/10/2019', '05:30', '16/10/2020', 'OBRAS / Nivel Rojo / 2710816'), ('10:17', '05/08/2019', '', '\\n', 'OBRAS / Nivel Amarillo / 2485584')]\n"
     ]
    }
   ],
   "source": [
    "regex=\"span class='orange'>(.*?)</span>.*?\\\">(.*?)<.*?span class='orange'>(.*?)</span>.*?\\\">(.*?)<.*?img src='.*?' alt='(.*?)' class='fti' />\"\n",
    "matches = re.findall(regex,s, re.DOTALL)\n",
    "print(matches)"
   ]
  },
  {
   "cell_type": "markdown",
   "metadata": {},
   "source": [
    "Ahora añadimos al regex lo necesario para encontrar la provincia y la población"
   ]
  },
  {
   "cell_type": "code",
   "execution_count": 8,
   "metadata": {},
   "outputs": [
    {
     "name": "stdout",
     "output_type": "stream",
     "text": [
      "[('10:08', '28/02/2020', '13:00', '28/02/2020', 'OBRAS / Nivel Verde / 3089747', 'MADRID', 'ALCOBENDAS'), ('10:04', '28/02/2020', '13:00', '28/02/2020', 'OBRAS / Nivel Verde / 3096476', 'MADRID', 'BUTARQUE'), ('10:02', '28/02/2020', '', '\\n', 'RETENCIÓN / CONGESTIÓN / Nivel Rojo / 3095928', 'MADRID', 'ROZAS DE MADRID (LAS)'), ('09:40', '28/02/2020', '15:00', '28/02/2020', 'OBRAS / Nivel Verde / 3096472', 'MADRID', 'PERALES DE TAJUÑA'), ('09:28', '28/02/2020', '13:30', '28/02/2020', 'OBRAS / Nivel Verde / 3096424', 'MADRID', 'MOLAR (EL)'), ('09:12', '28/02/2020', '12:30', '28/02/2020', 'OBRAS / Nivel Verde / 3096400', 'MADRID', 'FAMET'), ('09:11', '28/02/2020', '14:00', '28/02/2020', 'OBRAS / Nivel Verde / 3096410', 'MADRID', ''), ('09:07', '28/02/2020', '12:00', '28/02/2020', 'OBRAS / Nivel Verde / 3096375', 'MADRID', 'MORALEJA DE ENMEDIO'), ('09:04', '28/02/2020', '13:00', '28/02/2020', 'OBRAS / Nivel Verde / 3096134', 'MADRID', 'TABLADA'), ('09:03', '28/02/2020', '12:30', '28/02/2020', 'OBRAS / Nivel Verde / 3096250', 'MADRID', 'HUMERA-SOMOSAGUAS-PRADO DEL REY'), ('08:49', '28/02/2020', '13:00', '28/02/2020', 'OBRAS / Nivel Verde / 3096206', 'MADRID', 'COLLADO VILLALBA'), ('08:49', '28/02/2020', '15:30', '28/02/2020', 'OBRAS / Nivel Verde / 3096140', 'MADRID', 'MOLAR (EL)'), ('08:30', '28/02/2020', '15:30', '28/02/2020', 'OBRAS / Nivel Verde / 3096138', 'MADRID', 'CABRERA (LA)'), ('08:30', '28/02/2020', '15:30', '28/02/2020', 'OBRAS / Nivel Verde / 3096076', 'MADRID', 'VENTA DE MEA Y CALCETAS'), ('08:14', '28/02/2020', '13:00', '28/02/2020', 'OBRAS / Nivel Verde / 3095818', 'MADRID', 'CAÑADA REAL DE LA GALIANA'), ('08:14', '28/02/2020', '13:00', '28/02/2020', 'OBRAS / Nivel Verde / 3095822', 'MADRID', 'CORPA'), ('08:14', '28/02/2020', '13:00', '28/02/2020', 'OBRAS / Nivel Verde / 3095821', 'MADRID', 'CORPA'), ('08:14', '28/02/2020', '13:00', '28/02/2020', 'OBRAS / Nivel Verde / 3095819', 'MADRID', 'DEHESA DE TORRES'), ('08:14', '28/02/2020', '13:00', '28/02/2020', 'OBRAS / Nivel Verde / 3095816', 'MADRID', 'MEJORADA DEL CAMPO'), ('08:14', '28/02/2020', '13:00', '28/02/2020', 'OBRAS / Nivel Verde / 3095817', 'MADRID', 'CAÑADA REAL DE LA GALIANA'), ('08:04', '28/02/2020', '13:00', '28/02/2020', 'OBRAS / Nivel Verde / 3095921', 'MADRID', 'RABUSERA (LA)'), ('07:55', '28/02/2020', '', '\\n', 'RETENCIÓN / CONGESTIÓN / Nivel Amarillo / 3096147', 'MADRID', 'RIVAS-VACIAMADRID'), ('06:00', '28/02/2020', '23:00', '28/02/2020', 'RESTRICCIONES / Nivel Gris / 3045303', 'MADRID', 'MADRID'), ('08:51', '17/10/2019', '05:30', '16/10/2020', 'OBRAS / Nivel Rojo / 2710816', 'MADRID', 'MADRID'), ('10:17', '05/08/2019', '', '\\n', 'OBRAS / Nivel Amarillo / 2485584', 'MADRID', 'RASCAFRIA')]\n"
     ]
    }
   ],
   "source": [
    "regex+=\".*?<b>(.*?)</b>.*?<p class='p2TablaIncidencias'><a onclick =.*?>(.*?)</a>\"\n",
    "matches = re.findall(regex,s, re.DOTALL)\n",
    "print(matches)"
   ]
  },
  {
   "cell_type": "markdown",
   "metadata": {},
   "source": [
    "Ahora añadimos al regex que busque las inciidencias de la M-40"
   ]
  },
  {
   "cell_type": "code",
   "execution_count": 34,
   "metadata": {},
   "outputs": [
    {
     "name": "stdout",
     "output_type": "stream",
     "text": [
      "[('10:08', '28/02/2020', '13:00', '28/02/2020', 'OBRAS / Nivel Verde / 3089747', 'M-40'), ('10:02', '28/02/2020', '', '\\n', 'RETENCIÓN / CONGESTIÓN / Nivel Rojo / 3095928', 'M-40'), ('09:04', '28/02/2020', '13:00', '28/02/2020', 'OBRAS / Nivel Verde / 3096134', 'M-40')]\n"
     ]
    }
   ],
   "source": [
    "regex+=\".*?(M-40)\"\n",
    "matches = re.findall(regex,s, re.DOTALL)\n",
    "print(matches)"
   ]
  },
  {
   "cell_type": "markdown",
   "metadata": {},
   "source": [
    "La descripción es un problema, puede tener varios formatos así que vamos a recoger toda la información y luego depurarla con python, es decir, le vamos a quitar las etiquetas html\n",
    "\n",
    "\n",
    "<img src=\"descripcion.png\">\n",
    "\n",
    "Añadiremos un grupo que obtenga toda la información contenida en la descripción, etiquetas incluidas"
   ]
  },
  {
   "cell_type": "code",
   "execution_count": 11,
   "metadata": {},
   "outputs": [],
   "source": [
    "regex+=\".*?<b>(.*?)</a\""
   ]
  },
  {
   "cell_type": "code",
   "execution_count": 13,
   "metadata": {},
   "outputs": [
    {
     "name": "stdout",
     "output_type": "stream",
     "text": [
      "[('10:08', '28/02/2020', '13:00', '28/02/2020', 'OBRAS / Nivel Verde / 3089747', 'MADRID', 'ALCOBENDAS', 'M-40', 'OBRA / MANTENIMIENTO VIA</b> por <b>OBRAS</b> con circulación condicionada  en<b></b>: </span> <span style=\"margin-top:10px; float:left; clear:both\">  -  La carretera  <b> <span style=\"color:#ab3000\">M-40 </span> </b> desde el <b> km 28 </b> en <b>BUTARQUE (MADRID)</b> al <b> km 31</b> en <b>FORTUNA (MADRID)</b> sentido <b>AMBOS SENTIDOS</b></span><span style=\"margin-top:10px; float:left; clear:both\"> Advertencia: <b>ARCÉN CERRADO</b></span>\\n'), ('10:02', '28/02/2020', '', '\\n', 'RETENCIÓN / CONGESTIÓN / Nivel Rojo / 3095928', 'MADRID', 'ROZAS DE MADRID (LAS)', 'M-40', 'OBRA / MANTENIMIENTO VIA</b> por <b>OBRAS</b> con circulación condicionada  en<b></b>: </span> <span style=\"margin-top:10px; float:left; clear:both\">  -  La carretera  <b> <span style=\"color:#ab3000\">M-407 </span> </b> a la altura de <b>MORALEJA DE ENMEDIO (MADRID)</b> desde el <b> km 9</b> al <b> km 10.2</b> sentido <b>CRECIENTE DE LA KILOMETRACIÓN</b></span><span style=\"margin-top:10px; float:left; clear:both\"> Advertencia: <b>CARRIL DERECHO CERRADO</b></span>\\n'), ('09:04', '28/02/2020', '13:00', '28/02/2020', 'OBRAS / Nivel Verde / 3096134', 'MADRID', 'TABLADA', 'M-40', 'OBRA / MANTENIMIENTO VIA</b> por <b>OBRAS</b> con circulación difícil  en<b></b>: </span> <span style=\"margin-top:10px; float:left; clear:both\">  - <b>ENTRADA</b> de la carretera  <b> <span style=\"color:#ab3000\">M-40 </span> </b> a la altura de <b>MADRID (MADRID)</b> desde el <b> km 54.7</b> al <b> km 54.5</b> sentido <b>DECRECIENTE DE LA KILOMETRACIÓN</b></span><span style=\"margin-top:10px; float:left; clear:both\"> Advertencia: <b>CORTE TOTAL</b></span>\\n')]\n"
     ]
    }
   ],
   "source": [
    "matches = re.findall(regex,s, re.DOTALL)\n",
    "print(matches)"
   ]
  },
  {
   "cell_type": "markdown",
   "metadata": {},
   "source": [
    "Transformamos el último elemento con listas (ya que los valores de la tupla no se pueden modificar) y quitamos las etiquetas con re.sub"
   ]
  },
  {
   "cell_type": "code",
   "execution_count": 14,
   "metadata": {},
   "outputs": [],
   "source": [
    "matches1=[]\n",
    "for element in matches:\n",
    "    matches1.append(list(element))\n",
    "for element in matches1:\n",
    "    element[len(element)-1]=re.sub(\"<.*?>\", '',element[len(element)-1] )"
   ]
  },
  {
   "cell_type": "markdown",
   "metadata": {},
   "source": [
    "Imprimimos la lista, ya con la descripción \"limpia\" e imprimimos de una manera más o menos legible"
   ]
  },
  {
   "cell_type": "code",
   "execution_count": 35,
   "metadata": {},
   "outputs": [
    {
     "name": "stdout",
     "output_type": "stream",
     "text": [
      "10:08\n",
      "28/02/2020\n",
      "13:00\n",
      "28/02/2020\n",
      "OBRAS / Nivel Verde / 3089747\n",
      "MADRID\n",
      "ALCOBENDAS\n",
      "M-40\n",
      "OBRA / MANTENIMIENTO VIA por OBRAS con circulación condicionada  en:    -  La carretera   M-40   desde el  km 28  en BUTARQUE (MADRID) al  km 31 en FORTUNA (MADRID) sentido AMBOS SENTIDOS Advertencia: ARCÉN CERRADO\n",
      "\n",
      "10:02\n",
      "28/02/2020\n",
      "\n",
      "\n",
      "\n",
      "RETENCIÓN / CONGESTIÓN / Nivel Rojo / 3095928\n",
      "MADRID\n",
      "ROZAS DE MADRID (LAS)\n",
      "M-40\n",
      "OBRA / MANTENIMIENTO VIA por OBRAS con circulación condicionada  en:    -  La carretera   M-407   a la altura de MORALEJA DE ENMEDIO (MADRID) desde el  km 9 al  km 10.2 sentido CRECIENTE DE LA KILOMETRACIÓN Advertencia: CARRIL DERECHO CERRADO\n",
      "\n",
      "09:04\n",
      "28/02/2020\n",
      "13:00\n",
      "28/02/2020\n",
      "OBRAS / Nivel Verde / 3096134\n",
      "MADRID\n",
      "TABLADA\n",
      "M-40\n",
      "OBRA / MANTENIMIENTO VIA por OBRAS con circulación difícil  en:    - ENTRADA de la carretera   M-40   a la altura de MADRID (MADRID) desde el  km 54.7 al  km 54.5 sentido DECRECIENTE DE LA KILOMETRACIÓN Advertencia: CORTE TOTAL\n",
      "\n"
     ]
    }
   ],
   "source": [
    "for i in matches1:\n",
    "    for j in i:\n",
    "        print(j)"
   ]
  }
 ],
 "metadata": {
  "kernelspec": {
   "display_name": "Python 3",
   "language": "python",
   "name": "python3"
  },
  "language_info": {
   "codemirror_mode": {
    "name": "ipython",
    "version": 3
   },
   "file_extension": ".py",
   "mimetype": "text/x-python",
   "name": "python",
   "nbconvert_exporter": "python",
   "pygments_lexer": "ipython3",
   "version": "3.7.3"
  }
 },
 "nbformat": 4,
 "nbformat_minor": 2
}
